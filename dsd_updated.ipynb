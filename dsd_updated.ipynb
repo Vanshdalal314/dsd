{
  "cells": [
    {
      "cell_type": "code",
      "execution_count": null,
      "metadata": {
        "id": "BbzsxNmDzCqp"
      },
      "outputs": [],
      "source": [
        "# white teeth, alignment, golden ratio, pretty face\n",
        "# uneven teeth, yellow teeth, gums, rabbit tooth, teeth gap"
      ]
    },
    {
      "cell_type": "code",
      "execution_count": null,
      "metadata": {
        "id": "53jgzPVY09lh"
      },
      "outputs": [],
      "source": [
        "rm -rf /content/dsd"
      ]
    },
    {
      "cell_type": "code",
      "execution_count": null,
      "metadata": {
        "colab": {
          "base_uri": "https://localhost:8080/"
        },
        "id": "F4R9peI3A74H",
        "outputId": "22456cd2-0dd6-4a7a-f18b-f515f6bf923a"
      },
      "outputs": [
        {
          "output_type": "stream",
          "name": "stdout",
          "text": [
            "Collecting pygit2==1.12.2\n",
            "  Downloading pygit2-1.12.2-cp310-cp310-manylinux_2_17_x86_64.manylinux2014_x86_64.whl.metadata (3.5 kB)\n",
            "Requirement already satisfied: cffi>=1.9.1 in /usr/local/lib/python3.10/dist-packages (from pygit2==1.12.2) (1.16.0)\n",
            "Requirement already satisfied: pycparser in /usr/local/lib/python3.10/dist-packages (from cffi>=1.9.1->pygit2==1.12.2) (2.22)\n",
            "Downloading pygit2-1.12.2-cp310-cp310-manylinux_2_17_x86_64.manylinux2014_x86_64.whl (4.9 MB)\n",
            "\u001b[2K   \u001b[90m━━━━━━━━━━━━━━━━━━━━━━━━━━━━━━━━━━━━━━━━\u001b[0m \u001b[32m4.9/4.9 MB\u001b[0m \u001b[31m49.4 MB/s\u001b[0m eta \u001b[36m0:00:00\u001b[0m\n",
            "\u001b[?25hInstalling collected packages: pygit2\n",
            "Successfully installed pygit2-1.12.2\n",
            "/content\n",
            "Cloning into 'dsd'...\n",
            "remote: Enumerating objects: 6648, done.\u001b[K\n",
            "remote: Counting objects: 100% (414/414), done.\u001b[K\n",
            "remote: Compressing objects: 100% (314/314), done.\u001b[K\n",
            "remote: Total 6648 (delta 144), reused 188 (delta 85), pack-reused 6234\u001b[K\n",
            "Receiving objects: 100% (6648/6648), 33.53 MiB | 20.71 MiB/s, done.\n",
            "Resolving deltas: 100% (3699/3699), done.\n",
            "/content/dsd\n"
          ]
        }
      ],
      "source": [
        "# Run first - we need to install the required dependencies and then clone the latest version of Fooocus\n",
        "!pip install pygit2==1.12.2\n",
        "%cd /content\n",
        "# !git clone https://github.com/lllyasviel/Fooocus.git\n",
        "!git clone https://github.com/Vanshdalal314/dsd.git\n",
        "%cd /content/dsd"
      ]
    },
    {
      "cell_type": "code",
      "execution_count": null,
      "metadata": {
        "colab": {
          "base_uri": "https://localhost:8080/"
        },
        "id": "yRp_S2u7ujsu",
        "outputId": "19fc97a2-a270-4a82-c494-617d05a3adcf"
      },
      "outputs": [
        {
          "name": "stdout",
          "output_type": "stream",
          "text": [
            "--2024-07-29 09:03:44--  https://huggingface.co/imagepipeline/Juggernaut-Cinematic-XL/resolve/main/d0f06583-70e9-4541-8456-45ba46924216.safetensors\n",
            "Resolving huggingface.co (huggingface.co)... 3.163.189.37, 3.163.189.74, 3.163.189.114, ...\n",
            "Connecting to huggingface.co (huggingface.co)|3.163.189.37|:443... connected.\n",
            "HTTP request sent, awaiting response... 302 Found\n",
            "Location: https://cdn-lfs-us-1.huggingface.co/repos/4c/c6/4cc66c6e740111b2769a566679d3a1f1d0efce62cef2557e043fe3b4510f468b/4c113fd99f0a21450ca1800243ec4e23a9bec9a325cca015f83d33d7b566b3bd?response-content-disposition=inline%3B+filename*%3DUTF-8%27%27d0f06583-70e9-4541-8456-45ba46924216.safetensors%3B+filename%3D%22d0f06583-70e9-4541-8456-45ba46924216.safetensors%22%3B&Expires=1722503024&Policy=eyJTdGF0ZW1lbnQiOlt7IkNvbmRpdGlvbiI6eyJEYXRlTGVzc1RoYW4iOnsiQVdTOkVwb2NoVGltZSI6MTcyMjUwMzAyNH19LCJSZXNvdXJjZSI6Imh0dHBzOi8vY2RuLWxmcy11cy0xLmh1Z2dpbmdmYWNlLmNvL3JlcG9zLzRjL2M2LzRjYzY2YzZlNzQwMTExYjI3NjlhNTY2Njc5ZDNhMWYxZDBlZmNlNjJjZWYyNTU3ZTA0M2ZlM2I0NTEwZjQ2OGIvNGMxMTNmZDk5ZjBhMjE0NTBjYTE4MDAyNDNlYzRlMjNhOWJlYzlhMzI1Y2NhMDE1ZjgzZDMzZDdiNTY2YjNiZD9yZXNwb25zZS1jb250ZW50LWRpc3Bvc2l0aW9uPSoifV19&Signature=Hr10%7E9pQ-B1duaqqnR-pUOJBRaWfvhcWUEa93t2suhYiOxmHLSz%7EDIBIcJQ5qcjiasyfYyN-zU0miRGQI1vO3ClGThk6m5hw%7EIdpOvVoQrjVkWP0OBa4OvdwrZww-0AffO2VMR9petR20shKANLsMVxZojpwEKGeaSYqqXhUDK5eFaR0riCQ7FFOqeIRZNQZAJe8tj%7EKXvoRuz4SYbGDEg9MUImc-A2ZwdMcFkMFl%7Ezg8eb6hvE0FpVjdwrlPKrsFg3ghDlIhLElW6B1cbPb4N3tQsHZ9hC3%7Eykddz6AJigvl6WNP5Ptz3AfrXua%7EunlM0MFNp0YdfM7bKeLteVtKw__&Key-Pair-Id=K24J24Z295AEI9 [following]\n",
            "--2024-07-29 09:03:44--  https://cdn-lfs-us-1.huggingface.co/repos/4c/c6/4cc66c6e740111b2769a566679d3a1f1d0efce62cef2557e043fe3b4510f468b/4c113fd99f0a21450ca1800243ec4e23a9bec9a325cca015f83d33d7b566b3bd?response-content-disposition=inline%3B+filename*%3DUTF-8%27%27d0f06583-70e9-4541-8456-45ba46924216.safetensors%3B+filename%3D%22d0f06583-70e9-4541-8456-45ba46924216.safetensors%22%3B&Expires=1722503024&Policy=eyJTdGF0ZW1lbnQiOlt7IkNvbmRpdGlvbiI6eyJEYXRlTGVzc1RoYW4iOnsiQVdTOkVwb2NoVGltZSI6MTcyMjUwMzAyNH19LCJSZXNvdXJjZSI6Imh0dHBzOi8vY2RuLWxmcy11cy0xLmh1Z2dpbmdmYWNlLmNvL3JlcG9zLzRjL2M2LzRjYzY2YzZlNzQwMTExYjI3NjlhNTY2Njc5ZDNhMWYxZDBlZmNlNjJjZWYyNTU3ZTA0M2ZlM2I0NTEwZjQ2OGIvNGMxMTNmZDk5ZjBhMjE0NTBjYTE4MDAyNDNlYzRlMjNhOWJlYzlhMzI1Y2NhMDE1ZjgzZDMzZDdiNTY2YjNiZD9yZXNwb25zZS1jb250ZW50LWRpc3Bvc2l0aW9uPSoifV19&Signature=Hr10%7E9pQ-B1duaqqnR-pUOJBRaWfvhcWUEa93t2suhYiOxmHLSz%7EDIBIcJQ5qcjiasyfYyN-zU0miRGQI1vO3ClGThk6m5hw%7EIdpOvVoQrjVkWP0OBa4OvdwrZww-0AffO2VMR9petR20shKANLsMVxZojpwEKGeaSYqqXhUDK5eFaR0riCQ7FFOqeIRZNQZAJe8tj%7EKXvoRuz4SYbGDEg9MUImc-A2ZwdMcFkMFl%7Ezg8eb6hvE0FpVjdwrlPKrsFg3ghDlIhLElW6B1cbPb4N3tQsHZ9hC3%7Eykddz6AJigvl6WNP5Ptz3AfrXua%7EunlM0MFNp0YdfM7bKeLteVtKw__&Key-Pair-Id=K24J24Z295AEI9\n",
            "Resolving cdn-lfs-us-1.huggingface.co (cdn-lfs-us-1.huggingface.co)... 3.163.189.127, 3.163.189.91, 3.163.189.20, ...\n",
            "Connecting to cdn-lfs-us-1.huggingface.co (cdn-lfs-us-1.huggingface.co)|3.163.189.127|:443... connected.\n",
            "HTTP request sent, awaiting response... 200 OK\n",
            "Length: 170539852 (163M) [binary/octet-stream]\n",
            "Saving to: ‘/content/Fooocus/models/loras/cinematic_juggernautXL.safetensors’\n",
            "\n",
            "/content/Fooocus/mo 100%[===================>] 162.64M  81.3MB/s    in 2.0s    \n",
            "\n",
            "2024-07-29 09:03:47 (81.3 MB/s) - ‘/content/Fooocus/models/loras/cinematic_juggernautXL.safetensors’ saved [170539852/170539852]\n",
            "\n"
          ]
        }
      ],
      "source": [
        "!wget -O /content/Fooocus/models/loras/cinematic_juggernautXL.safetensors https://huggingface.co/imagepipeline/Juggernaut-Cinematic-XL/resolve/main/d0f06583-70e9-4541-8456-45ba46924216.safetensors"
      ]
    },
    {
      "cell_type": "code",
      "execution_count": null,
      "metadata": {
        "id": "9vfHQkiJBIQp"
      },
      "outputs": [],
      "source": [
        "# Download the model you want to run and save it to the checkpoint folder\n",
        "# !wget -O /content/Fooocus/models/checkpoints/autismmixSDXL_autismmixConfetti.safetensors https://huggingface.co/LarryAIDraw/autismmixSDXL_autismmixConfetti/resolve/main/autismmixSDXL_autismmixConfetti.safetensors?download=true\n",
        "# !wget -O /content/Fooocus/models/checkpoints/RealVisXL_V4.0.safetensors https://huggingface.co/SG161222/RealVisXL_V4.0/resolve/main/RealVisXL_V4.0.safetensors?download=true\n",
        "# !wget -O /content/Fooocus/models/checkpoints/stable-diffusion-xl-refiner-1.0 https://huggingface.co/stabilityai/stable-diffusion-xl-refiner-1.0/resolve/main/sd_xl_refiner_1.0.safetensors\n"
      ]
    },
    {
      "cell_type": "code",
      "execution_count": null,
      "metadata": {
        "colab": {
          "base_uri": "https://localhost:8080/"
        },
        "id": "2EnKlFrsDYHL",
        "outputId": "7a89ff78-b1e8-4e65-8e2c-a84c1d0aa173"
      },
      "outputs": [
        {
          "output_type": "stream",
          "name": "stdout",
          "text": [
            "Already up-to-date\n",
            "Update succeeded.\n",
            "[System ARGV] ['entry_with_update.py', '--share']\n",
            "Python 3.10.12 (main, Jul 29 2024, 16:56:48) [GCC 11.4.0]\n",
            "Fooocus version: 2.5.2\n",
            "Error checking version for torchsde: No package metadata was found for torchsde\n",
            "Installing requirements\n",
            "[Cleanup] Attempting to delete content of temp dir /tmp/fooocus\n",
            "[Cleanup] Cleanup successful\n",
            "Downloading: \"https://huggingface.co/lllyasviel/misc/resolve/main/xlvaeapp.pth\" to /content/dsd/models/vae_approx/xlvaeapp.pth\n",
            "\n",
            "100% 209k/209k [00:00<00:00, 9.73MB/s]\n",
            "Downloading: \"https://huggingface.co/lllyasviel/misc/resolve/main/vaeapp_sd15.pt\" to /content/dsd/models/vae_approx/vaeapp_sd15.pth\n",
            "\n",
            "100% 209k/209k [00:00<00:00, 394kB/s]\n",
            "Downloading: \"https://huggingface.co/mashb1t/misc/resolve/main/xl-to-v1_interposer-v4.0.safetensors\" to /content/dsd/models/vae_approx/xl-to-v1_interposer-v4.0.safetensors\n",
            "\n",
            "100% 5.40M/5.40M [00:00<00:00, 94.8MB/s]\n",
            "Downloading: \"https://huggingface.co/lllyasviel/misc/resolve/main/fooocus_expansion.bin\" to /content/dsd/models/prompt_expansion/fooocus_expansion/pytorch_model.bin\n",
            "\n",
            "100% 335M/335M [00:01<00:00, 241MB/s]\n",
            "Downloading: \"https://huggingface.co/lllyasviel/fav_models/resolve/main/fav/juggernautXL_v8Rundiffusion.safetensors\" to /content/dsd/models/checkpoints/juggernautXL_v8Rundiffusion.safetensors\n",
            "\n",
            "100% 6.62G/6.62G [00:49<00:00, 144MB/s]\n",
            "Downloading: \"https://huggingface.co/stabilityai/stable-diffusion-xl-base-1.0/resolve/main/sd_xl_offset_example-lora_1.0.safetensors\" to /content/dsd/models/loras/sd_xl_offset_example-lora_1.0.safetensors\n",
            "\n",
            "100% 47.3M/47.3M [00:00<00:00, 219MB/s]\n",
            "Total VRAM 15102 MB, total RAM 12979 MB\n",
            "Set vram state to: NORMAL_VRAM\n",
            "Always offload VRAM\n",
            "Device: cuda:0 Tesla T4 : native\n",
            "VAE dtype: torch.float32\n",
            "Using pytorch cross attention\n",
            "Refiner unloaded.\n",
            "IMPORTANT: You are using gradio version 3.41.2, however version 4.29.0 is available, please upgrade.\n",
            "--------\n",
            "Running on local URL:  http://127.0.0.1:7865\n",
            "Running on public URL: https://14cfba76c9d7520e17.gradio.live\n",
            "\n",
            "This share link expires in 72 hours. For free permanent hosting and GPU upgrades, run `gradio deploy` from Terminal to deploy to Spaces (https://huggingface.co/spaces)\n",
            "model_type EPS\n",
            "UNet ADM Dimension 2816\n",
            "Using pytorch attention in VAE\n",
            "Working with z of shape (1, 4, 32, 32) = 4096 dimensions.\n",
            "Using pytorch attention in VAE\n",
            "extra {'cond_stage_model.clip_l.logit_scale', 'cond_stage_model.clip_l.text_projection'}\n",
            "left over keys: dict_keys(['cond_stage_model.clip_l.transformer.text_model.embeddings.position_ids'])\n",
            "Base model loaded: /content/dsd/models/checkpoints/juggernautXL_v8Rundiffusion.safetensors\n",
            "VAE loaded: None\n",
            "Request to load LoRAs [('sd_xl_offset_example-lora_1.0.safetensors', 0.1)] for model [/content/dsd/models/checkpoints/juggernautXL_v8Rundiffusion.safetensors].\n",
            "Loaded LoRA [/content/dsd/models/loras/sd_xl_offset_example-lora_1.0.safetensors] for UNet [/content/dsd/models/checkpoints/juggernautXL_v8Rundiffusion.safetensors] with 788 keys at weight 0.1.\n",
            "Fooocus V2 Expansion: Vocab with 642 words.\n",
            "Fooocus Expansion engine loaded for cuda:0, use_fp16 = True.\n",
            "Requested to load SDXLClipModel\n",
            "Requested to load GPT2LMHeadModel\n",
            "Loading 2 new models\n",
            "[Fooocus Model Management] Moving model(s) has taken 0.61 seconds\n",
            "2024-08-03 02:46:43.624762: E external/local_xla/xla/stream_executor/cuda/cuda_fft.cc:485] Unable to register cuFFT factory: Attempting to register factory for plugin cuFFT when one has already been registered\n",
            "2024-08-03 02:46:43.914828: E external/local_xla/xla/stream_executor/cuda/cuda_dnn.cc:8454] Unable to register cuDNN factory: Attempting to register factory for plugin cuDNN when one has already been registered\n",
            "2024-08-03 02:46:43.997056: E external/local_xla/xla/stream_executor/cuda/cuda_blas.cc:1452] Unable to register cuBLAS factory: Attempting to register factory for plugin cuBLAS when one has already been registered\n",
            "2024-08-03 02:46:44.492274: I tensorflow/core/platform/cpu_feature_guard.cc:210] This TensorFlow binary is optimized to use available CPU instructions in performance-critical operations.\n",
            "To enable the following instructions: AVX2 AVX512F FMA, in other operations, rebuild TensorFlow with the appropriate compiler flags.\n",
            "2024-08-03 02:46:46.625126: W tensorflow/compiler/tf2tensorrt/utils/py_utils.cc:38] TF-TRT Warning: Could not find TensorRT\n",
            "Started worker with PID 791\n",
            "App started successful. Use the app with http://127.0.0.1:7865/ or 127.0.0.1:7865 or https://14cfba76c9d7520e17.gradio.live\n"
          ]
        }
      ],
      "source": [
        "!python entry_with_update.py --share"
      ]
    }
  ],
  "metadata": {
    "accelerator": "GPU",
    "colab": {
      "gpuType": "T4",
      "provenance": []
    },
    "kernelspec": {
      "display_name": "Python 3",
      "name": "python3"
    },
    "language_info": {
      "name": "python"
    }
  },
  "nbformat": 4,
  "nbformat_minor": 0
}